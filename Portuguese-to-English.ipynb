{
  "cells": [
    {
      "cell_type": "markdown",
      "metadata": {
        "id": "tH9GZs4Hxy13"
      },
      "source": [
        "#Import library"
      ]
    },
    {
      "cell_type": "code",
      "execution_count": null,
      "metadata": {
        "id": "CTR0vKJ4inSU"
      },
      "outputs": [],
      "source": [
        "import numpy as np\n",
        "import pandas as pd\n",
        "import tensorflow as tf\n",
        "import tensorflow_datasets as tfds\n",
        "import pathlib\n",
        "import time\n",
        "import matplotlib.pyplot as plt\n",
        "import random\n",
        "import string\n",
        "import re\n",
        "from tensorflow import keras\n",
        "from tensorflow.keras import layers\n",
        "from tensorflow.keras.layers import TextVectorization"
      ]
    },
    {
      "cell_type": "markdown",
      "metadata": {
        "id": "zk6ZNnWo0I11"
      },
      "source": [
        "#import dataset and split data"
      ]
    },
    {
      "cell_type": "code",
      "execution_count": null,
      "metadata": {
        "id": "B2BENs92jYZ_"
      },
      "outputs": [],
      "source": [
        "examples, metadata   = tfds.load('ted_hrlr_translate/pt_to_en' , with_info=True, as_supervised= True)\n",
        "train_examples, val_examples , test_examples = examples['train'], examples['validation'],examples['test']"
      ]
    },
    {
      "cell_type": "code",
      "execution_count": null,
      "metadata": {
        "colab": {
          "base_uri": "https://localhost:8080/"
        },
        "id": "Cfe2owdj-obk",
        "outputId": "a5ee80d9-3bf9-4696-884a-d2119ec8a0ca"
      },
      "outputs": [
        {
          "data": {
            "text/plain": [
              "tfds.core.DatasetInfo(\n",
              "    name='ted_hrlr_translate',\n",
              "    version=1.0.0,\n",
              "    description='Data sets derived from TED talk transcripts for comparing similar language pairs\n",
              "where one is high resource and the other is low resource.',\n",
              "    homepage='https://github.com/neulab/word-embeddings-for-nmt',\n",
              "    features=Translation({\n",
              "        'en': Text(shape=(), dtype=tf.string),\n",
              "        'pt': Text(shape=(), dtype=tf.string),\n",
              "    }),\n",
              "    total_num_examples=54781,\n",
              "    splits={\n",
              "        'test': 1803,\n",
              "        'train': 51785,\n",
              "        'validation': 1193,\n",
              "    },\n",
              "    supervised_keys=('pt', 'en'),\n",
              "    citation=\"\"\"@inproceedings{Ye2018WordEmbeddings,\n",
              "      author  = {Ye, Qi and Devendra, Sachan and Matthieu, Felix and Sarguna, Padmanabhan and Graham, Neubig},\n",
              "      title   = {When and Why are pre-trained word embeddings useful for Neural Machine Translation},\n",
              "      booktitle = {HLT-NAACL},\n",
              "      year    = {2018},\n",
              "      }\"\"\",\n",
              "    redistribution_info=,\n",
              ")"
            ]
          },
          "execution_count": 3,
          "metadata": {},
          "output_type": "execute_result"
        }
      ],
      "source": [
        "metadata"
      ]
    },
    {
      "cell_type": "code",
      "execution_count": null,
      "metadata": {
        "id": "KUCuN_99Wr5b"
      },
      "outputs": [],
      "source": [
        "#sub_train = train_examples.take(15000)"
      ]
    },
    {
      "cell_type": "code",
      "execution_count": null,
      "metadata": {
        "id": "2FpOgAGmW6zZ"
      },
      "outputs": [],
      "source": [
        "#len(sub_train)"
      ]
    },
    {
      "cell_type": "code",
      "execution_count": null,
      "metadata": {
        "colab": {
          "base_uri": "https://localhost:8080/"
        },
        "id": "1Cyw2bN5g8cx",
        "outputId": "e1f985ce-d552-425c-8303-28fcfdde87d2"
      },
      "outputs": [
        {
          "data": {
            "application/vnd.google.colaboratory.intrinsic+json": {
              "type": "string"
            },
            "text/plain": [
              "'sub_train = list(train_examples.as_numpy_iterator())\\ntrain = train_examples[:20000]\\nlen(train)'"
            ]
          },
          "execution_count": 6,
          "metadata": {},
          "output_type": "execute_result"
        }
      ],
      "source": [
        "'''sub_train = list(train_examples.as_numpy_iterator())\n",
        "train = train_examples[:20000]\n",
        "len(train)'''"
      ]
    },
    {
      "cell_type": "markdown",
      "metadata": {
        "id": "IgnlUsnO0lWh"
      },
      "source": [
        "###Display some data"
      ]
    },
    {
      "cell_type": "code",
      "execution_count": null,
      "metadata": {
        "colab": {
          "base_uri": "https://localhost:8080/"
        },
        "id": "_UTe1n390juo",
        "outputId": "a4e0a9df-005e-47fd-84cb-654f5ea95aa9"
      },
      "outputs": [
        {
          "name": "stdout",
          "output_type": "stream",
          "text": [
            "e quando melhoramos a procura , tiramos a única vantagem da impressão , que é a serendipidade .\n",
            "\n",
            "and when you improve searchability , you actually take away the one advantage of print , which is serendipity .\n",
            "mas e se estes fatores fossem ativos ?\n",
            "\n",
            "but what if it were active ?\n",
            "mas eles não tinham a curiosidade de me testar .\n",
            "\n",
            "but they did n't test for curiosity .\n",
            "e esta rebeldia consciente é a razão pela qual eu , como agnóstica , posso ainda ter fé .\n",
            "\n",
            "and this conscious defiance is why i , as an agnostic , can still have faith .\n",
            "`` `` '' podem usar tudo sobre a mesa no meu corpo . ''\n",
            "\n",
            "you can use everything on the table on me .\n",
            "`` eu escrevo muito acerca do `` '' teatro de segurança '' '' , que são produtos que fazem as pessoas sentirem-se seguras mas que , na realidade , não fazem nada . ''\n",
            "\n",
            "`` i write a lot about `` '' security theater , '' '' which are products that make people feel secure , but do n't actually do anything . ''\n",
            "colocaram-no bem no fundo duma mina de ferro no minnesota , nos últimos dois dias anunciaram os resultados mais sensíveis até agora .\n",
            "\n",
            "and they 've put it deep down in an iron mine in minnesota , ok , deep under the ground , and in fact , in the last couple of days announced the most sensitive results so far .\n",
            "algumas pessoas têm medo de que não gostem delas .\n",
            "\n",
            "see , some people might fear girls not liking them back .\n",
            "não , o que nos aconteceu , chris , é que o poder , o preço está fixado fora da margem .\n",
            "\n",
            "no , what happened to us , chris , is that power , it 's priced off the margin .\n",
            "de volta à minha pergunta : porque é que fiquei ?\n",
            "\n",
            "back to my question : why did i stay ?\n"
          ]
        }
      ],
      "source": [
        "for pt_examples, en_examples in train_examples.batch(1).take(10):\n",
        "  for pt in pt_examples.numpy():\n",
        "    print(pt.decode('utf-8'))\n",
        "\n",
        "  print()\n",
        "\n",
        "  for en in en_examples.numpy():\n",
        "    print(en.decode('utf-8'))"
      ]
    },
    {
      "cell_type": "markdown",
      "metadata": {
        "id": "TRMIuQkNJVCl"
      },
      "source": [
        "##Text tokenization"
      ]
    },
    {
      "cell_type": "code",
      "execution_count": null,
      "metadata": {
        "id": "68JM7FcVj5r4"
      },
      "outputs": [],
      "source": [
        "tokenizer_en = tfds.deprecated.text.SubwordTextEncoder.build_from_corpus((en.numpy() for pt, en in train_examples), target_vocab_size=2**13)\n",
        "tokenizer_pt = tfds.deprecated.text.SubwordTextEncoder.build_from_corpus((pt.numpy() for pt, en in train_examples), target_vocab_size=2**13)"
      ]
    },
    {
      "cell_type": "code",
      "execution_count": null,
      "metadata": {
        "colab": {
          "base_uri": "https://localhost:8080/"
        },
        "id": "Q8dXbzk90jr4",
        "outputId": "a33955ef-23cc-4fb4-bf37-1d7f879b4e4d"
      },
      "outputs": [
        {
          "name": "stdout",
          "output_type": "stream",
          "text": [
            "Tokenized string is [4, 59, 15, 1792, 6561, 3060, 7952, 1, 15, 103, 134, 378, 3, 47, 6122, 6, 5311, 1, 91, 13, 1849, 559, 1609, 894]\n"
          ]
        }
      ],
      "source": [
        "sample_string = 'and when you improve searchability , you actually take away the one advantage of print , which is serendipity'\n",
        "\n",
        "tokenized_string = tokenizer_en.encode(sample_string)\n",
        "print (f'Tokenized string is {tokenized_string}')"
      ]
    },
    {
      "cell_type": "code",
      "execution_count": null,
      "metadata": {
        "colab": {
          "base_uri": "https://localhost:8080/"
        },
        "id": "KF0MEhkhnKE_",
        "outputId": "3e528c47-fdf6-4231-f5cf-ba7def26a45a"
      },
      "outputs": [
        {
          "name": "stdout",
          "output_type": "stream",
          "text": [
            "4 ----> and \n",
            "59 ----> when \n",
            "15 ----> you \n",
            "1792 ----> improve \n",
            "6561 ----> search\n",
            "3060 ----> abilit\n",
            "7952 ----> y\n",
            "1 ---->  , \n",
            "15 ----> you \n",
            "103 ----> actually \n",
            "134 ----> take \n",
            "378 ----> away \n",
            "3 ----> the \n",
            "47 ----> one \n",
            "6122 ----> advantage \n",
            "6 ----> of \n",
            "5311 ----> print\n",
            "1 ---->  , \n",
            "91 ----> which \n",
            "13 ----> is \n",
            "1849 ----> ser\n",
            "559 ----> end\n",
            "1609 ----> ip\n",
            "894 ----> ity\n"
          ]
        }
      ],
      "source": [
        "for ts in tokenized_string:\n",
        "  print (f'{ts} ----> {tokenizer_en.decode([ts])}')"
      ]
    },
    {
      "cell_type": "markdown",
      "metadata": {
        "id": "7fmJ0OJznJe-"
      },
      "source": [
        "##Add a start and end token to the input and target."
      ]
    },
    {
      "cell_type": "code",
      "execution_count": null,
      "metadata": {
        "id": "Nuwk_Gi_1V82"
      },
      "outputs": [],
      "source": [
        "BUFFER_SIZE = 20000\n",
        "BATCH_SIZE = 64"
      ]
    },
    {
      "cell_type": "code",
      "execution_count": null,
      "metadata": {
        "id": "OqGtIoxgnJVm"
      },
      "outputs": [],
      "source": [
        "def encode(lang1, lang2):\n",
        "  lang1 = [tokenizer_pt.vocab_size] + tokenizer_pt.encode(\n",
        "      lang1.numpy()) + [tokenizer_pt.vocab_size+1]\n",
        "\n",
        "  lang2 = [tokenizer_en.vocab_size] + tokenizer_en.encode(\n",
        "      lang2.numpy()) + [tokenizer_en.vocab_size+1]\n",
        "  \n",
        "  return lang1, lang2"
      ]
    },
    {
      "cell_type": "code",
      "execution_count": null,
      "metadata": {
        "id": "l8POEkQLnJHB"
      },
      "outputs": [],
      "source": [
        "def tf_encode(pt, en):\n",
        "  result_pt, result_en = tf.py_function(encode, [pt, en], [tf.int64, tf.int64])\n",
        "  result_pt.set_shape([None])\n",
        "  result_en.set_shape([None])\n",
        "\n",
        "  return result_pt, result_en"
      ]
    },
    {
      "cell_type": "markdown",
      "metadata": {
        "id": "DklQ6rUL3RIq"
      },
      "source": [
        "drop examples with a length of over 40 tokens."
      ]
    },
    {
      "cell_type": "code",
      "execution_count": null,
      "metadata": {
        "id": "vR-A-WuMn-Tf"
      },
      "outputs": [],
      "source": [
        "MAX_LENGTH = 80\n",
        "def filter_max_length(x, y, max_length=MAX_LENGTH):\n",
        "  return tf.logical_and(tf.size(x) <= max_length,\n",
        "                        tf.size(y) <= max_length)"
      ]
    },
    {
      "cell_type": "code",
      "execution_count": null,
      "metadata": {
        "id": "v_T5hk7l3cD_"
      },
      "outputs": [],
      "source": [
        "train_dataset = train_examples.map(tf_encode)\n",
        "train_dataset = train_dataset.filter(filter_max_length)\n",
        "train_dataset = train_dataset.cache()\n",
        "train_dataset = train_dataset.shuffle(BUFFER_SIZE).padded_batch(BATCH_SIZE)\n",
        "train_dataset = train_dataset.prefetch(tf.data.experimental.AUTOTUNE)\n",
        "\n",
        "val_dataset = val_examples.map(tf_encode)\n",
        "val_dataset = val_dataset.filter(filter_max_length).padded_batch(BATCH_SIZE)"
      ]
    },
    {
      "cell_type": "code",
      "execution_count": null,
      "metadata": {
        "id": "XJ026klhOXY-"
      },
      "outputs": [],
      "source": [
        "pr_list = []\n",
        "en_list = []\n",
        "for i ,j in train_dataset:\n",
        "  pr_list.append(i)\n",
        "  en_list.append(j)"
      ]
    },
    {
      "cell_type": "code",
      "execution_count": null,
      "metadata": {
        "colab": {
          "base_uri": "https://localhost:8080/"
        },
        "id": "eg4gB0IMmwTA",
        "outputId": "5febbf0b-01cd-4225-b2a0-2aadf6076d13"
      },
      "outputs": [],
      "source": [
        "pr_list"
      ]
    },
    {
      "cell_type": "markdown",
      "metadata": {
        "id": "uIe969NY6wVE"
      },
      "source": [
        "#Positional encoding"
      ]
    },
    {
      "cell_type": "code",
      "execution_count": null,
      "metadata": {
        "id": "mMoWNbeG_Ggi"
      },
      "outputs": [],
      "source": [
        "def get_angles(pos, i, d_model):\n",
        "  angle_rates = 1 / np.power(10000, (2 * (i//2)) / np.float32(d_model))\n",
        "  return pos * angle_rates"
      ]
    },
    {
      "cell_type": "code",
      "execution_count": null,
      "metadata": {
        "id": "YJQZNntH_GWT"
      },
      "outputs": [],
      "source": [
        "def positional_encoding(position, d_model):\n",
        "  angle_rads = get_angles(np.arange(position)[:, np.newaxis] ,  np.arange(d_model)[np.newaxis, :]  ,   d_model)\n",
        "  \n",
        "  # apply sin to even indices in the array; 2i\n",
        "  angle_rads[:, 0::2] = np.sin(angle_rads[:, 0::2])\n",
        "  \n",
        "  # apply cos to odd indices in the array; 2i+1\n",
        "  angle_rads[:, 1::2] = np.cos(angle_rads[:, 1::2])\n",
        "    \n",
        "  pos_encoding = angle_rads[np.newaxis, ...]\n",
        "    \n",
        "  return tf.cast(pos_encoding, dtype=tf.float32)"
      ]
    },
    {
      "cell_type": "code",
      "execution_count": null,
      "metadata": {
        "colab": {
          "base_uri": "https://localhost:8080/",
          "height": 301
        },
        "id": "VkLtm8cp_GTb",
        "outputId": "ebe6e007-37f1-4fd1-d7b8-190827926296"
      },
      "outputs": [
        {
          "name": "stdout",
          "output_type": "stream",
          "text": [
            "(1, 70, 512)\n"
          ]
        },
        {
          "data": {
            "image/png": "[encoded data removed]",
            "text/plain": [
              "<Figure size 432x288 with 2 Axes>"
            ]
          },
          "metadata": {
            "needs_background": "light"
          },
          "output_type": "display_data"
        }
      ],
      "source": [
        "pos_encoding = positional_encoding(70, 512)\n",
        "print (pos_encoding.shape)\n",
        "plt.pcolormesh(pos_encoding[0], cmap='RdBu')\n",
        "plt.xlabel('Depth')\n",
        "plt.xlim((0, 512))\n",
        "plt.ylabel('Position')\n",
        "plt.colorbar()\n",
        "plt.show()"
      ]
    },
    {
      "cell_type": "markdown",
      "metadata": {
        "id": "TwxHPC6c8q1u"
      },
      "source": [
        "#masking"
      ]
    },
    {
      "cell_type": "code",
      "execution_count": null,
      "metadata": {
        "id": "juJJ8Zom43la"
      },
      "outputs": [],
      "source": [
        "#change zero to one and other number to zero and attention when saw zero\n",
        "def create_padding_mask(seq):\n",
        "  seq = tf.cast(tf.math.equal(seq, 0), tf.float32)\n",
        "  return seq[:, tf.newaxis, tf.newaxis, :]  # (batch_size, 1, 1, seq_len)"
      ]
    },
    {
      "cell_type": "code",
      "execution_count": null,
      "metadata": {
        "id": "CG4r6H-75VJG"
      },
      "outputs": [],
      "source": [
        "#The look-ahead mask is used to mask the future tokens in a sequence. In other words, the mask indicates which entries should not be used.\n",
        "def create_look_ahead_mask(size):\n",
        "  mask = 1 - tf.linalg.band_part(tf.ones((size, size)), -1, 0)\n",
        "  return mask  # (seq_len, seq_len)"
      ]
    },
    {
      "cell_type": "markdown",
      "metadata": {
        "id": "3br6JNn8ATJ3"
      },
      "source": [
        "#scaled dot product attention"
      ]
    },
    {
      "cell_type": "markdown",
      "metadata": {
        "id": "I1dEbj3VD7s6"
      },
      "source": [
        "![image.png](data:image/png;base64,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)"
      ]
    },
    {
      "cell_type": "code",
      "execution_count": null,
      "metadata": {
        "id": "i8ssRzWN5Xr1"
      },
      "outputs": [],
      "source": [
        "def scaled_dot_product_attention(q, k, v, mask):\n",
        "  matmul_qk = tf.matmul(q, k, transpose_b=True)  # (..., seq_len_q, seq_len_k)\n",
        "  \n",
        "  # scale matmul_qk\n",
        "  dk = tf.cast(tf.shape(k)[-1], tf.float32)\n",
        "  scaled_attention_logits = matmul_qk / tf.math.sqrt(dk)\n",
        "\n",
        "  # add the mask to the scaled tensor.(optional)\n",
        "  if mask is not None:\n",
        "    scaled_attention_logits += (mask * -1e9)  \n",
        "\n",
        "  # softmax is normalized on the last axis (seq_len_k) so that the scores\n",
        "  # add up to 1.\n",
        "  attention_weights = tf.nn.softmax(scaled_attention_logits, axis=-1)  # (..., seq_len_q, seq_len_k)\n",
        "\n",
        "  output = tf.matmul(attention_weights, v)  # (..., seq_len_q, depth_v)\n",
        "\n",
        "  return output, attention_weights"
      ]
    },
    {
      "cell_type": "markdown",
      "metadata": {
        "id": "8Msu_Rj1nSjD"
      },
      "source": [
        "#multi head attention"
      ]
    },
    {
      "cell_type": "code",
      "execution_count": null,
      "metadata": {
        "id": "_KDaORME6H8n"
      },
      "outputs": [],
      "source": [
        "class MultiHeadAttention(tf.keras.layers.Layer):\n",
        "  def __init__(self, d_model, num_heads):\n",
        "    super(MultiHeadAttention, self).__init__()\n",
        "    self.num_heads = num_heads\n",
        "    self.d_model = d_model\n",
        "    \n",
        "    assert d_model % self.num_heads == 0\n",
        "    \n",
        "    self.depth = d_model // self.num_heads\n",
        "    \n",
        "    self.wq = tf.keras.layers.Dense(d_model)\n",
        "    self.wk = tf.keras.layers.Dense(d_model)\n",
        "    self.wv = tf.keras.layers.Dense(d_model)\n",
        "    \n",
        "    self.dense = tf.keras.layers.Dense(d_model)\n",
        "        \n",
        "  def split_heads(self, x, batch_size):\n",
        "    \"\"\"Split the last dimension into (num_heads, depth).\n",
        "    Transpose the result such that the shape is (batch_size, num_heads, seq_len, depth)\n",
        "    \"\"\"\n",
        "    x = tf.reshape(x, (batch_size, -1, self.num_heads, self.depth))\n",
        "    return tf.transpose(x, perm=[0, 2, 1, 3])\n",
        "    \n",
        "  def call(self, v, k, q, mask):\n",
        "    batch_size = tf.shape(q)[0]\n",
        "    \n",
        "    q = self.wq(q)  # (batch_size, seq_len, d_model)\n",
        "    k = self.wk(k)  # (batch_size, seq_len, d_model)\n",
        "    v = self.wv(v)  # (batch_size, seq_len, d_model)\n",
        "    \n",
        "    q = self.split_heads(q, batch_size)  # (batch_size, num_heads, seq_len_q, depth)\n",
        "    k = self.split_heads(k, batch_size)  # (batch_size, num_heads, seq_len_k, depth)\n",
        "    v = self.split_heads(v, batch_size)  # (batch_size, num_heads, seq_len_v, depth)\n",
        "    \n",
        "    # scaled_attention.shape == (batch_size, num_heads, seq_len_q, depth)\n",
        "    # attention_weights.shape == (batch_size, num_heads, seq_len_q, seq_len_k)\n",
        "    scaled_attention, attention_weights = scaled_dot_product_attention(\n",
        "        q, k, v, mask)\n",
        "    \n",
        "    scaled_attention = tf.transpose(scaled_attention, perm=[0, 2, 1, 3])  # (batch_size, seq_len_q, num_heads, depth)\n",
        "\n",
        "    concat_attention = tf.reshape(scaled_attention, \n",
        "                                  (batch_size, -1, self.d_model))  # (batch_size, seq_len_q, d_model)\n",
        "\n",
        "    output = self.dense(concat_attention)  # (batch_size, seq_len_q, d_model)\n",
        "        \n",
        "    return output, attention_weights"
      ]
    },
    {
      "cell_type": "markdown",
      "metadata": {
        "id": "VdTZ_j1QnpSQ"
      },
      "source": [
        "#Point wise feed forward network"
      ]
    },
    {
      "cell_type": "code",
      "execution_count": null,
      "metadata": {
        "id": "6k9EkJ2J6J2V"
      },
      "outputs": [],
      "source": [
        "def point_wise_feed_forward_network(d_model, dff):\n",
        "  return tf.keras.Sequential([\n",
        "      tf.keras.layers.Dense(dff, activation='relu'),  # (batch_size, seq_len, dff)\n",
        "      tf.keras.layers.Dense(d_model)  # (batch_size, seq_len, d_model)\n",
        "  ])"
      ]
    },
    {
      "cell_type": "markdown",
      "metadata": {
        "id": "PtM_54omoLN0"
      },
      "source": [
        "#Encoder layer"
      ]
    },
    {
      "cell_type": "code",
      "execution_count": null,
      "metadata": {
        "id": "TeQlT5eLoNeT"
      },
      "outputs": [],
      "source": [
        "class EncoderLayer(tf.keras.layers.Layer):\n",
        "  def __init__(self, d_model, num_heads, dff, rate=0.1):\n",
        "    super(EncoderLayer, self).__init__()\n",
        "\n",
        "    self.mha = MultiHeadAttention(d_model, num_heads)\n",
        "    self.ffn = point_wise_feed_forward_network(d_model, dff)\n",
        "\n",
        "    self.layernorm1 = tf.keras.layers.LayerNormalization(epsilon=1e-6)\n",
        "    self.layernorm2 = tf.keras.layers.LayerNormalization(epsilon=1e-6)\n",
        "    \n",
        "    self.dropout1 = tf.keras.layers.Dropout(rate)\n",
        "    self.dropout2 = tf.keras.layers.Dropout(rate)\n",
        "    \n",
        "  def call(self, x, training, mask):\n",
        "\n",
        "    attn_output, _ = self.mha(x, x, x, mask)  # (batch_size, input_seq_len, d_model)\n",
        "    attn_output = self.dropout1(attn_output, training=training)\n",
        "    out1 = self.layernorm1(x + attn_output)  # (batch_size, input_seq_len, d_model)\n",
        "    \n",
        "    ffn_output = self.ffn(out1)  # (batch_size, input_seq_len, d_model)\n",
        "    ffn_output = self.dropout2(ffn_output, training=training)\n",
        "    out2 = self.layernorm2(out1 + ffn_output)  # (batch_size, input_seq_len, d_model)\n",
        "    \n",
        "    return out2"
      ]
    },
    {
      "cell_type": "markdown",
      "metadata": {
        "id": "8ensP1pFocWY"
      },
      "source": [
        "#Decoder layer"
      ]
    },
    {
      "cell_type": "code",
      "execution_count": null,
      "metadata": {
        "id": "1126KCV5oeE5"
      },
      "outputs": [],
      "source": [
        "class DecoderLayer(tf.keras.layers.Layer):\n",
        "  def __init__(self, d_model, num_heads, dff, rate=0.1):\n",
        "    super(DecoderLayer, self).__init__()\n",
        "\n",
        "    self.mha1 = MultiHeadAttention(d_model, num_heads)\n",
        "    self.mha2 = MultiHeadAttention(d_model, num_heads)\n",
        "\n",
        "    self.ffn = point_wise_feed_forward_network(d_model, dff)\n",
        " \n",
        "    self.layernorm1 = tf.keras.layers.LayerNormalization(epsilon=1e-6)\n",
        "    self.layernorm2 = tf.keras.layers.LayerNormalization(epsilon=1e-6)\n",
        "    self.layernorm3 = tf.keras.layers.LayerNormalization(epsilon=1e-6)\n",
        "    \n",
        "    self.dropout1 = tf.keras.layers.Dropout(rate)\n",
        "    self.dropout2 = tf.keras.layers.Dropout(rate)\n",
        "    self.dropout3 = tf.keras.layers.Dropout(rate)\n",
        "    \n",
        "    \n",
        "  def call(self, x, enc_output, training, \n",
        "           look_ahead_mask, padding_mask):\n",
        "    # enc_output.shape == (batch_size, input_seq_len, d_model)\n",
        "\n",
        "    attn1, attn_weights_block1 = self.mha1(x, x, x, look_ahead_mask)  # (batch_size, target_seq_len, d_model)\n",
        "    attn1 = self.dropout1(attn1, training=training)\n",
        "    out1 = self.layernorm1(attn1 + x)\n",
        "    \n",
        "    attn2, attn_weights_block2 = self.mha2(\n",
        "        enc_output, enc_output, out1, padding_mask)  # (batch_size, target_seq_len, d_model)\n",
        "    attn2 = self.dropout2(attn2, training=training)\n",
        "    out2 = self.layernorm2(attn2 + out1)  # (batch_size, target_seq_len, d_model)\n",
        "    \n",
        "    ffn_output = self.ffn(out2)  # (batch_size, target_seq_len, d_model)\n",
        "    ffn_output = self.dropout3(ffn_output, training=training)\n",
        "    out3 = self.layernorm3(ffn_output + out2)  # (batch_size, target_seq_len, d_model)\n",
        "    \n",
        "    return out3, attn_weights_block1, attn_weights_block2"
      ]
    },
    {
      "cell_type": "markdown",
      "metadata": {
        "id": "Hc3caxrUoos3"
      },
      "source": [
        "#Encoder"
      ]
    },
    {
      "cell_type": "code",
      "execution_count": null,
      "metadata": {
        "id": "Rwj0djd_oq1G"
      },
      "outputs": [],
      "source": [
        "class Encoder(tf.keras.layers.Layer):\n",
        "  def __init__(self, num_layers, d_model, num_heads, dff, input_vocab_size,\n",
        "               maximum_position_encoding, rate=0.1):\n",
        "    super(Encoder, self).__init__()\n",
        "\n",
        "    self.d_model = d_model\n",
        "    self.num_layers = num_layers\n",
        "    \n",
        "    self.embedding = tf.keras.layers.Embedding(input_vocab_size, d_model)\n",
        "    self.pos_encoding = positional_encoding(maximum_position_encoding, \n",
        "                                            self.d_model)\n",
        "    \n",
        "    \n",
        "    self.enc_layers = [EncoderLayer(d_model, num_heads, dff, rate) \n",
        "                       for _ in range(num_layers)]\n",
        "  \n",
        "    self.dropout = tf.keras.layers.Dropout(rate)\n",
        "        \n",
        "  def call(self, x, training, mask):\n",
        "\n",
        "    seq_len = tf.shape(x)[1]\n",
        "    \n",
        "    # adding embedding and position encoding.\n",
        "    x = self.embedding(x)  # (batch_size, input_seq_len, d_model)\n",
        "    x *= tf.math.sqrt(tf.cast(self.d_model, tf.float32))\n",
        "    x += self.pos_encoding[:, :seq_len, :]\n",
        "\n",
        "    x = self.dropout(x, training=training)\n",
        "    \n",
        "    for i in range(self.num_layers):\n",
        "      x = self.enc_layers[i](x, training, mask)\n",
        "    \n",
        "    return x  # (batch_size, input_seq_len, d_model)"
      ]
    },
    {
      "cell_type": "markdown",
      "metadata": {
        "id": "_uGxUmM-oxfW"
      },
      "source": [
        "#Decoder"
      ]
    },
    {
      "cell_type": "code",
      "execution_count": null,
      "metadata": {
        "id": "uVcXvUibo35V"
      },
      "outputs": [],
      "source": [
        "class Decoder(tf.keras.layers.Layer):\n",
        "  def __init__(self, num_layers, d_model, num_heads, dff, target_vocab_size,\n",
        "               maximum_position_encoding, rate=0.1):\n",
        "    super(Decoder, self).__init__()\n",
        "\n",
        "    self.d_model = d_model\n",
        "    self.num_layers = num_layers\n",
        "    \n",
        "    self.embedding = tf.keras.layers.Embedding(target_vocab_size, d_model)\n",
        "    self.pos_encoding = positional_encoding(maximum_position_encoding, d_model)\n",
        "    \n",
        "    self.dec_layers = [DecoderLayer(d_model, num_heads, dff, rate) \n",
        "                       for _ in range(num_layers)]\n",
        "    self.dropout = tf.keras.layers.Dropout(rate)\n",
        "    \n",
        "  def call(self, x, enc_output, training, \n",
        "           look_ahead_mask, padding_mask):\n",
        "\n",
        "    seq_len = tf.shape(x)[1]\n",
        "    attention_weights = {}\n",
        "    \n",
        "    x = self.embedding(x)  # (batch_size, target_seq_len, d_model)\n",
        "    x *= tf.math.sqrt(tf.cast(self.d_model, tf.float32))\n",
        "    x += self.pos_encoding[:, :seq_len, :]\n",
        "    \n",
        "    x = self.dropout(x, training=training)\n",
        "\n",
        "    for i in range(self.num_layers):\n",
        "      x, block1, block2 = self.dec_layers[i](x, enc_output, training,\n",
        "                                             look_ahead_mask, padding_mask)\n",
        "      \n",
        "      attention_weights['decoder_layer{}_block1'.format(i+1)] = block1\n",
        "      attention_weights['decoder_layer{}_block2'.format(i+1)] = block2\n",
        "    \n",
        "    # x.shape == (batch_size, target_seq_len, d_model)\n",
        "    return x, attention_weights"
      ]
    },
    {
      "cell_type": "markdown",
      "metadata": {
        "id": "zuMPhNeJpJSM"
      },
      "source": [
        "#Create the Transformer"
      ]
    },
    {
      "cell_type": "code",
      "execution_count": null,
      "metadata": {
        "id": "2DNlHmwUpLPa"
      },
      "outputs": [],
      "source": [
        "class Transformer(tf.keras.Model):\n",
        "  def __init__(self, num_layers, d_model, num_heads, dff, input_vocab_size, \n",
        "               target_vocab_size, pe_input, pe_target, rate=0.1):\n",
        "    super(Transformer, self).__init__()\n",
        "\n",
        "    self.encoder = Encoder(num_layers, d_model, num_heads, dff, \n",
        "                           input_vocab_size, pe_input, rate)\n",
        "\n",
        "    self.decoder = Decoder(num_layers, d_model, num_heads, dff, \n",
        "                           target_vocab_size, pe_target, rate)\n",
        "\n",
        "    self.final_layer = tf.keras.layers.Dense(target_vocab_size)\n",
        "    \n",
        "  def call(self, inp, tar, training, enc_padding_mask, \n",
        "           look_ahead_mask, dec_padding_mask):\n",
        "\n",
        "    enc_output = self.encoder(inp, training, enc_padding_mask)  # (batch_size, inp_seq_len, d_model)\n",
        "    \n",
        "    # dec_output.shape == (batch_size, tar_seq_len, d_model)\n",
        "    dec_output, attention_weights = self.decoder(\n",
        "        tar, enc_output, training, look_ahead_mask, dec_padding_mask)\n",
        "    \n",
        "    final_output = self.final_layer(dec_output)  # (batch_size, tar_seq_len, target_vocab_size)\n",
        "    \n",
        "    return final_output, attention_weights"
      ]
    },
    {
      "cell_type": "markdown",
      "metadata": {
        "id": "eZwGJ2M2peOv"
      },
      "source": [
        "#Set hyperparameters"
      ]
    },
    {
      "cell_type": "code",
      "execution_count": null,
      "metadata": {
        "id": "hc4wliAWpfuW"
      },
      "outputs": [],
      "source": [
        "num_layers = 4\n",
        "d_model = 128\n",
        "dff = 512\n",
        "num_heads = 8\n",
        "\n",
        "input_vocab_size = tokenizer_pt.vocab_size + 2\n",
        "target_vocab_size = tokenizer_en.vocab_size + 2\n",
        "dropout_rate = 0.1"
      ]
    },
    {
      "cell_type": "markdown",
      "metadata": {
        "id": "emKnxzD7zlQm"
      },
      "source": [
        "#Optimizer"
      ]
    },
    {
      "cell_type": "code",
      "execution_count": null,
      "metadata": {
        "id": "kjchLhrWpi9e"
      },
      "outputs": [],
      "source": [
        "class CustomSchedule(tf.keras.optimizers.schedules.LearningRateSchedule):\n",
        "  def __init__(self, d_model, warmup_steps=4000):\n",
        "    super(CustomSchedule, self).__init__()\n",
        "    \n",
        "    self.d_model = d_model\n",
        "    self.d_model = tf.cast(self.d_model, tf.float32)\n",
        "\n",
        "    self.warmup_steps = warmup_steps\n",
        "    \n",
        "  def __call__(self, step):\n",
        "    arg1 = tf.math.rsqrt(step)\n",
        "    arg2 = step * (self.warmup_steps ** -1.5)\n",
        "    \n",
        "    return tf.math.rsqrt(self.d_model) * tf.math.minimum(arg1, arg2)"
      ]
    },
    {
      "cell_type": "code",
      "execution_count": null,
      "metadata": {
        "id": "ghrXLtJRzx5X"
      },
      "outputs": [],
      "source": [
        "learning_rate = CustomSchedule(d_model)\n",
        "\n",
        "optimizer = tf.keras.optimizers.Adam(learning_rate, beta_1=0.9, beta_2=0.98, \n",
        "                                     epsilon=1e-9)"
      ]
    },
    {
      "cell_type": "code",
      "execution_count": null,
      "metadata": {
        "colab": {
          "base_uri": "https://localhost:8080/",
          "height": 297
        },
        "id": "foSvS5d1z04y",
        "outputId": "4270c308-88db-45cd-8865-8a8763e6c79e"
      },
      "outputs": [
        {
          "data": {
            "text/plain": [
              "Text(0.5, 0, 'Train Step')"
            ]
          },
          "execution_count": 34,
          "metadata": {},
          "output_type": "execute_result"
        },
        {
          "data": {
            "image/png": "[encoded data removed]",
            "text/plain": [
              "<Figure size 432x288 with 1 Axes>"
            ]
          },
          "metadata": {
            "needs_background": "light"
          },
          "output_type": "display_data"
        }
      ],
      "source": [
        "temp_learning_rate_schedule = CustomSchedule(d_model)\n",
        "\n",
        "plt.plot(temp_learning_rate_schedule(tf.range(40000, dtype=tf.float32)))\n",
        "plt.ylabel(\"Learning Rate\")\n",
        "plt.xlabel(\"Train Step\")"
      ]
    },
    {
      "cell_type": "markdown",
      "metadata": {
        "id": "DJta_0qEz5dS"
      },
      "source": [
        "#Loss and metrics"
      ]
    },
    {
      "cell_type": "code",
      "execution_count": null,
      "metadata": {
        "id": "87fTjpW9z7dy"
      },
      "outputs": [],
      "source": [
        "loss_object = tf.keras.losses.SparseCategoricalCrossentropy(\n",
        "    from_logits=True, reduction='none')"
      ]
    },
    {
      "cell_type": "code",
      "execution_count": null,
      "metadata": {
        "id": "eGnTcQRfz_xx"
      },
      "outputs": [],
      "source": [
        "def loss_function(real, pred):\n",
        "  mask = tf.math.logical_not(tf.math.equal(real, 0))\n",
        "  loss_ = loss_object(real, pred)\n",
        "\n",
        "  mask = tf.cast(mask, dtype=loss_.dtype)\n",
        "  loss_ *= mask\n",
        "  \n",
        "  return tf.reduce_sum(loss_)/tf.reduce_sum(mask)"
      ]
    },
    {
      "cell_type": "code",
      "execution_count": null,
      "metadata": {
        "id": "xEeobYBg0DFg"
      },
      "outputs": [],
      "source": [
        "train_loss = tf.keras.metrics.Mean(name='train_loss')\n",
        "train_accuracy = tf.keras.metrics.SparseCategoricalAccuracy(\n",
        "    name='train_accuracy')"
      ]
    },
    {
      "cell_type": "markdown",
      "metadata": {
        "id": "uURie63Y0Mo0"
      },
      "source": [
        "#Training and checkpointing"
      ]
    },
    {
      "cell_type": "code",
      "execution_count": null,
      "metadata": {
        "id": "yffAhOy70KNg"
      },
      "outputs": [],
      "source": [
        "transformer = Transformer(num_layers, d_model, num_heads, dff,\n",
        "                          input_vocab_size, target_vocab_size, \n",
        "                          pe_input=input_vocab_size, \n",
        "                          pe_target=target_vocab_size,\n",
        "                          rate=dropout_rate)"
      ]
    },
    {
      "cell_type": "code",
      "execution_count": null,
      "metadata": {
        "id": "jBrBOrXQ21cR"
      },
      "outputs": [],
      "source": [
        "def create_masks(inp, tar):\n",
        "  # Encoder padding mask\n",
        "  enc_padding_mask = create_padding_mask(inp)\n",
        "  \n",
        "  # Used in the 2nd attention block in the decoder.\n",
        "  # This padding mask is used to mask the encoder outputs.\n",
        "  dec_padding_mask = create_padding_mask(inp)\n",
        "  \n",
        "  # Used in the 1st attention block in the decoder.\n",
        "  # It is used to pad and mask future tokens in the input received by \n",
        "  # the decoder.\n",
        "  look_ahead_mask = create_look_ahead_mask(tf.shape(tar)[1])\n",
        "  dec_target_padding_mask = create_padding_mask(tar)\n",
        "  combined_mask = tf.maximum(dec_target_padding_mask, look_ahead_mask)\n",
        "  \n",
        "  return enc_padding_mask, combined_mask, dec_padding_mask"
      ]
    },
    {
      "cell_type": "code",
      "execution_count": null,
      "metadata": {
        "colab": {
          "base_uri": "https://localhost:8080/"
        },
        "id": "W9o6RHFJ27WN",
        "outputId": "c272a5a9-15ab-4bec-9cb0-1376ef2eb4c3"
      },
      "outputs": [
        {
          "name": "stdout",
          "output_type": "stream",
          "text": [
            "Latest checkpoint restored!!\n"
          ]
        }
      ],
      "source": [
        "checkpoint_path = \"/content/drive/MyDrive/mamad\"\n",
        "\n",
        "ckpt = tf.train.Checkpoint(transformer=transformer,\n",
        "                           optimizer=optimizer)\n",
        "\n",
        "ckpt_manager = tf.train.CheckpointManager(ckpt, checkpoint_path, max_to_keep=5)\n",
        "\n",
        "# if a checkpoint exists, restore the latest checkpoint.\n",
        "if ckpt_manager.latest_checkpoint:\n",
        "  ckpt.restore(ckpt_manager.latest_checkpoint)\n",
        "  print ('Latest checkpoint restored!!')"
      ]
    },
    {
      "cell_type": "code",
      "execution_count": null,
      "metadata": {
        "id": "s5zSd7iz3GRS"
      },
      "outputs": [],
      "source": [
        "EPOCHS = 100"
      ]
    },
    {
      "cell_type": "code",
      "execution_count": null,
      "metadata": {
        "id": "pT7qLiib3Kjr"
      },
      "outputs": [],
      "source": [
        "train_step_signature = [\n",
        "    tf.TensorSpec(shape=(None, None), dtype=tf.int64),\n",
        "    tf.TensorSpec(shape=(None, None), dtype=tf.int64),\n",
        "]\n",
        "\n",
        "@tf.function(input_signature=train_step_signature)\n",
        "def train_step(inp, tar):\n",
        "  tar_inp = tar[:, :-1]\n",
        "  tar_real = tar[:, 1:]\n",
        "  \n",
        "  enc_padding_mask, combined_mask, dec_padding_mask = create_masks(inp, tar_inp)\n",
        "  \n",
        "  with tf.GradientTape() as tape:\n",
        "    predictions, _ = transformer(inp, tar_inp, \n",
        "                                 True, \n",
        "                                 enc_padding_mask, \n",
        "                                 combined_mask, \n",
        "                                 dec_padding_mask)\n",
        "    loss = loss_function(tar_real, predictions)\n",
        "\n",
        "  gradients = tape.gradient(loss, transformer.trainable_variables)    \n",
        "  optimizer.apply_gradients(zip(gradients, transformer.trainable_variables))\n",
        "  \n",
        "  train_loss(loss)\n",
        "  train_accuracy(tar_real, predictions)"
      ]
    },
    {
      "cell_type": "code",
      "execution_count": null,
      "metadata": {
        "colab": {
          "base_uri": "https://localhost:8080/"
        },
        "id": "2swj3wU93Qgy",
        "outputId": "280c932c-fe51-4569-ff1f-41b60a31da6b"
      },
      "outputs": [],
      "source": [
        "for epoch in range(EPOCHS):\n",
        "  start = time.time()\n",
        "  \n",
        "  train_loss.reset_states()\n",
        "  train_accuracy.reset_states()\n",
        "  \n",
        "  # inp -> portuguese, tar -> english\n",
        "  for (batch, (inp, tar)) in enumerate(train_dataset):\n",
        "    train_step(inp, tar)\n",
        "    \n",
        "    if batch % 50 == 0:\n",
        "      print ('Epoch {} Batch {} Loss {:.4f} Accuracy {:.4f}'.format(\n",
        "          epoch + 1, batch, train_loss.result(), train_accuracy.result()))\n",
        "      \n",
        "  if (epoch + 1) % 5 == 0:\n",
        "    ckpt_save_path = ckpt_manager.save()\n",
        "    print ('Saving checkpoint for epoch {} at {}'.format(epoch+1,\n",
        "                                                         ckpt_save_path))\n",
        "    \n",
        "  print ('Epoch {} Loss {:.4f} Accuracy {:.4f}'.format(epoch + 1, \n",
        "                                                train_loss.result(), \n",
        "                                                train_accuracy.result()))\n",
        "\n",
        "  print ('Time taken for 1 epoch: {} secs\\n'.format(time.time() - start))"
      ]
    },
    {
      "cell_type": "markdown",
      "metadata": {
        "id": "N9zxUL4R3pnY"
      },
      "source": [
        "#Evaluate"
      ]
    },
    {
      "cell_type": "code",
      "execution_count": null,
      "metadata": {
        "id": "MFvblOoh3rMo"
      },
      "outputs": [],
      "source": [
        "def evaluate(inp_sentence):\n",
        "  start_token = [tokenizer_pt.vocab_size]\n",
        "  end_token = [tokenizer_pt.vocab_size + 1]\n",
        "  \n",
        "  # inp sentence is portuguese, hence adding the start and end token\n",
        "  inp_sentence = start_token + tokenizer_pt.encode(inp_sentence) + end_token\n",
        "  encoder_input = tf.expand_dims(inp_sentence, 0)\n",
        "  \n",
        "  # as the target is english, the first word to the transformer should be the\n",
        "  # english start token.\n",
        "  decoder_input = [tokenizer_en.vocab_size]\n",
        "  output = tf.expand_dims(decoder_input, 0)\n",
        "    \n",
        "  for i in range(MAX_LENGTH):\n",
        "    enc_padding_mask, combined_mask, dec_padding_mask = create_masks(\n",
        "        encoder_input, output)\n",
        "  \n",
        "    # predictions.shape == (batch_size, seq_len, vocab_size)\n",
        "    predictions, attention_weights = transformer(encoder_input, \n",
        "                                                 output,\n",
        "                                                 False,\n",
        "                                                 enc_padding_mask,\n",
        "                                                 combined_mask,\n",
        "                                                 dec_padding_mask)\n",
        "    \n",
        "    # select the last word from the seq_len dimension\n",
        "    predictions = predictions[: ,-1:, :]  # (batch_size, 1, vocab_size)\n",
        "\n",
        "    predicted_id = tf.cast(tf.argmax(predictions, axis=-1), tf.int32)\n",
        "    \n",
        "    # return the result if the predicted_id is equal to the end token\n",
        "    if predicted_id == tokenizer_en.vocab_size+1:\n",
        "      return tf.squeeze(output, axis=0), attention_weights\n",
        "    \n",
        "    # concatentate the predicted_id to the output which is given to the decoder\n",
        "    # as its input.\n",
        "    output = tf.concat([output, predicted_id], axis=-1)\n",
        "\n",
        "  return tf.squeeze(output, axis=0), attention_weights"
      ]
    },
    {
      "cell_type": "code",
      "execution_count": null,
      "metadata": {
        "id": "CFf96FGQ4b6w"
      },
      "outputs": [],
      "source": [
        "def plot_attention_weights(attention, sentence, result, layer):\n",
        "  fig = plt.figure(figsize=(16, 8))\n",
        "  \n",
        "  sentence = tokenizer_pt.encode(sentence)\n",
        "  \n",
        "  attention = tf.squeeze(attention[layer], axis=0)\n",
        "  \n",
        "  for head in range(attention.shape[0]):\n",
        "    ax = fig.add_subplot(2, 4, head+1)\n",
        "    \n",
        "    # plot the attention weights\n",
        "    ax.matshow(attention[head][:-1, :], cmap='viridis')\n",
        "\n",
        "    fontdict = {'fontsize': 10}\n",
        "    \n",
        "    ax.set_xticks(range(len(sentence)+2))\n",
        "    ax.set_yticks(range(len(result)))\n",
        "    \n",
        "    ax.set_ylim(len(result)-1.5, -0.5)\n",
        "        \n",
        "    ax.set_xticklabels(\n",
        "        ['<start>']+[tokenizer_pt.decode([i]) for i in sentence]+['<end>'], \n",
        "        fontdict=fontdict, rotation=90)\n",
        "    \n",
        "    ax.set_yticklabels([tokenizer_en.decode([i]) for i in result \n",
        "                        if i < tokenizer_en.vocab_size], \n",
        "                       fontdict=fontdict)\n",
        "    \n",
        "    ax.set_xlabel('Head {}'.format(head+1))\n",
        "  \n",
        "  plt.tight_layout()\n",
        "  plt.show()"
      ]
    },
    {
      "cell_type": "code",
      "execution_count": null,
      "metadata": {
        "id": "TkDbrPMR4e_2"
      },
      "outputs": [],
      "source": [
        "def translate(sentence, plot=''):\n",
        "  result, attention_weights = evaluate(sentence)\n",
        "  \n",
        "  predicted_sentence = tokenizer_en.decode([i for i in result \n",
        "                                            if i < tokenizer_en.vocab_size])  \n",
        "\n",
        "  print('Input: {}'.format(sentence))\n",
        "  print('Predicted translation: {}'.format(predicted_sentence))\n",
        "  \n",
        "  if plot:\n",
        "    plot_attention_weights(attention_weights, sentence, result, plot)"
      ]
    },
    {
      "cell_type": "markdown",
      "metadata": {
        "id": "wQobw-z5g2At"
      },
      "source": [
        "evaluate on test data"
      ]
    },
    {
      "cell_type": "code",
      "execution_count": null,
      "metadata": {
        "colab": {
          "base_uri": "https://localhost:8080/"
        },
        "id": "gb0jv3o0gu_3",
        "outputId": "c039260d-e1b1-439e-8c82-12511fc17c2d"
      },
      "outputs": [
        {
          "name": "stdout",
          "output_type": "stream",
          "text": [
            "depois , podem fazer-se e testar-se previsões .\n",
            "\n",
            "then , predictions can be made and tested .\n",
            "forçou a parar múltiplos laboratórios que ofereciam testes brca .\n",
            "\n",
            "it had forced multiple labs that were offering brca testing to stop .\n",
            "as formigas são um exemplo clássico ; as operárias trabalham para as rainhas e vice-versa .\n",
            "\n",
            "ants are a classic example ; workers work for queens and queens work for workers .\n",
            "uma em cada cem crianças no mundo nascem com uma doença cardíaca .\n",
            "\n",
            "one of every hundred children born worldwide has some kind of heart disease .\n",
            "neste momento da sua vida , ela está a sofrer de sida no seu expoente máximo e tinha pneumonia .\n",
            "\n",
            "at this point in her life , she 's suffering with full-blown aids and had pneumonia .\n",
            "onde estão as redes económicas ?\n",
            "\n",
            "where are economic networks ?\n",
            "( aplausos )\n",
            "\n",
            "( applause )\n",
            "eu usei os contentores de transporte , e também os alunos ajudaram-nos a fazer toda a mobília dos edifícios , para torná-los confortáveis​​ , dentro do orçamento do governo , mas também com a mesma a área da casa , mas muito mais confortável .\n",
            "\n",
            "i used the shipping container and also the students helped us to make all the building furniture to make them comfortable , within the budget of the government but also the area of the house is exactly the same , but much more comfortable .\n",
            "e , no entanto , a ironia é que a única maneira de podermos fazer qualquer coisa nova é dar um passo nessa direção .\n",
            "\n",
            "and yet , the irony is , the only way we can ever do anything new is to step into that space .\n",
            "a luz nunca desaparece .\n",
            "\n",
            "the light never goes out .\n",
            "`` agora , `` '' tweets '' '' , quem está a `` '' tweetar '' '' ? ''\n",
            "\n",
            "now , tweets , who 's tweeting ?\n",
            "no egito , por exemplo , 91 % das mulheres que vivem hoje no egito foram mutiladas sexualmente dessa forma .\n",
            "\n",
            "in egypt , for instance , 91 percent of all the females that live in egypt today have been sexually mutilated in that way .\n",
            "por outro lado , os bebés de 15 meses ficavam a olhar para ela durante muito tempo caso ela agisse como se preferisse os brócolos , como se não percebessem a situação .\n",
            "\n",
            "on the other hand , 15 month-olds would stare at her for a long time if she acted as if she liked the broccoli , like they could n't figure this out .\n",
            "naquele momento , percebi quanta energia negativa é precisa para conservar aquele ódio dentro de nós .\n",
            "\n",
            "in that instant , i realized how much negative energy it takes to hold that hatred inside of you .\n",
            "e a discussão é : o que é que isso interessa .\n",
            "\n",
            "and the discussion is , who cares ? right ?\n",
            "se escolhermos um lugar e formos cuidadosos , as coisas estarão sempre lá quando as procurarmos .\n",
            "\n",
            "if you designate a spot and you 're scrupulous about it , your things will always be there when you look for them .\n",
            "é um museu muito popular agora , e criei um grande monumento para o governo .\n",
            "\n",
            "it 's a very popular museum now , and i created a big monument for the government .\n",
            "é completamente irrelevante .\n",
            "\n",
            "it 's completely irrelevant .\n",
            "todos defenderam que a sua técnica era a melhor , mas nenhum deles tinha a certeza disso e admitiram-no .\n",
            "\n",
            "`` they all argued that , `` '' my technique is the best , '' '' but none of them actually knew , and they admitted that . ''\n",
            "a partir daquele momento , comecei a pensar .\n",
            "\n",
            "at that moment , i started thinking .\n",
            "mt : portanto , aqui temos a maré baixa e aqui a maré alta e no centro temos a lua .\n",
            "\n",
            "mt : so over here is low tide , and over here is high tide , and in the middle is the moon .\n",
            "então , este jogo é muito simples .\n",
            "\n",
            "beau lotto : so , this game is very simple .\n",
            "então , propus a reconstrução . angariei , recolhi fundos .\n",
            "\n",
            "so i proposed to rebuild . i raised — did fundraising .\n",
            "o que nós - betty rapacholi , minha aluna , e eu - fizemos foi dar aos bebés dois pratos de comida : um prato com brócolos crus e um com bolachas deliciosas em forma de peixinho .\n",
            "\n",
            "what we did — betty rapacholi , who was one of my students , and i — was actually to give the babies two bowls of food : one bowl of raw broccoli and one bowl of delicious goldfish crackers .\n",
            "é algo que nos acontece sem o nosso consentimento .\n",
            "\n",
            "it 's something that happens to us without our consent .\n",
            "ardemos de paixão .\n",
            "\n",
            "we burn with passion .\n",
            "`` a mutilação genital é horrível , e desconhecida pelas mulheres americanas . mas , nalguns países , em muitos países , quando uma menina nasce , muito cedo na sua vida , os seus genitais são completamente removidos por um chamado `` '' cortador '' '' que , com uma lâmina de navalha , sem recurso à esterilização , corta as partes exteriores dos genitais femininos . ''\n",
            "\n",
            "genital mutilation is horrible and not known by american women , but in some countries , many countries , when a child is born that 's a girl , very soon in her life , her genitals are completely cut away by a so-called cutter who has a razor blade and , in a non-sterilized way , they remove the exterior parts of a woman 's genitalia .\n",
            "isto significa 20 % do orçamento , do orçamento relativo a cuidados de saúde do país .\n",
            "\n",
            "that 's 20 percent of the budget , of the healthcare budget of the country .\n",
            "conheci-o num evento 46664 .\n",
            "\n",
            "i met him at a 46664 event .\n",
            "deixem-me mostrar-vos o que quero dizer .\n",
            "\n",
            "let me show you what i mean .\n",
            "acho que este é o problema .\n",
            "\n",
            "i think this is a problem .\n",
            "mt : oh , 365 , o número de dias num ano , o número de dias entre cada aniversário .\n",
            "\n",
            "mt : oh , 365 , the number of days in a year , the number of days between each birthday .\n",
            "como disse peter lavine , o ser humano é um ser único habilitado com uma capacidade instintiva para curar e com o espírito intelectual para manter esta capacidade inata .\n",
            "\n",
            "as peter levine has said , the human animal is a unique being endowed with an instinctual capacity to heal and the intellectual spirit to harness this innate capacity .\n",
            "o cortisol é tóxico e tolda-nos o pensamento .\n",
            "\n",
            "cortisol is toxic , and it causes cloudy thinking .\n",
            "e às vezes , em casos mais extremos , mas não muito raros , eles costuram o orifício para que a menina possa apenas urinar ou menstruar .\n",
            "\n",
            "and sometimes , in more extreme cases but not very rare cases , they sew the orifice up so the girl can just urinate or menstruate .\n",
            "há sempre vestígios — não há nenhum crime perfeito .\n",
            "\n",
            "there are always traces — no such thing as a perfect crime .\n",
            "`` `` '' vai procurá-la atrás das montanhas . ''\n",
            "\n",
            "go and look behind the mountains .\n",
            "ambos , adam e oz , pouparam uma hora .\n",
            "\n",
            "adam and oz both saved an hour of time .\n",
            "claro que não ! têm que treinar 24/7 .\n",
            "\n",
            "of course not ! you 've got to practice 24/7 .\n",
            "logo a seguir , encontrei outra foto minha .\n",
            "\n",
            "soon after that , i found in another picture that she had , a picture of me .\n",
            "portanto , pensei , temos a fórmula pronta .\n",
            "\n",
            "so i was like , okay , so we 've got the formula ready .\n",
            "parafraseando chavez , uma vez iniciada uma mudança social , esta não pode ser revertida .\n",
            "\n",
            "to paraphrase chavez , once social change begins , it can not be reversed .\n",
            "neste vídeo , podemos ver como um cateter muito fino leva a bobina até ao coração .\n",
            "\n",
            "in this video , we can see how a very tiny catheter takes the coil to the heart .\n",
            "e já agora , aquele café , aquele maravilhoso café que tomaram lá em baixo , na verdade imita o efeito dos neurotransmissores dos bebés .\n",
            "\n",
            "and by the way , that coffee , that wonderful coffee you 've been drinking downstairs , actually mimics the effect of those baby neurotransmitters .\n",
            "eles têm dinheiro e poder .\n",
            "\n",
            "they have money and power .\n",
            "eu não sou o meu pai .\n",
            "\n",
            "i am not my father .\n",
            "e isso afeta-nos a todos .\n",
            "\n",
            "and that affects all of us .\n",
            "a este respeito , para membros da sociedade , não há maior honra ou privilégio do que facilitar o processo de cura de alguém , testemunhar , de estender uma mão , de partilhar o fardo do sofrimento de alguém , e de manter a esperança da sua recuperação .\n",
            "\n",
            "in this respect , for members of society , there is no greater honor or privilege than facilitating that process of healing for someone , to bear witness , to reach out a hand , to share the burden of someone 's suffering , and to hold the hope for their recovery .\n",
            "sabemos mais do que eles ?\n",
            "\n",
            "do we know better than them ?\n",
            "( risos ) parece-me que todos vocês são tocs , astrofísicos e ultramaratonistas .\n",
            "\n",
            "( laughter ) you 're all cfo , astrophysicists , ultra-marathoners , it turns out .\n"
          ]
        }
      ],
      "source": [
        "for pt_examples, en_examples in test_examples.batch(1).take(50):\n",
        "  for pt in pt_examples.numpy():\n",
        "    print(pt.decode('utf-8'))\n",
        "\n",
        "  print()\n",
        "\n",
        "  for en in en_examples.numpy():\n",
        "    print(en.decode('utf-8'))"
      ]
    },
    {
      "cell_type": "code",
      "execution_count": null,
      "metadata": {
        "colab": {
          "base_uri": "https://localhost:8080/"
        },
        "id": "j4Jx6X7xa-xj",
        "outputId": "b98ced81-5553-49b7-d9ba-b38c72c391d2"
      },
      "outputs": [
        {
          "name": "stdout",
          "output_type": "stream",
          "text": [
            "Input: ( risos ) parece-me que todos vocês são tocs , astrofísicos e ultramaratonistas .\n",
            "Predicted translation: ( laughter ) it seems to me all of you are interplanets , astrophysical and marbles .\n",
            "Real translation:( laughter ) you 're all cfo , astrophysicists , ultra-marathoners , it turns out .\n"
          ]
        }
      ],
      "source": [
        "translate(\"( risos ) parece-me que todos vocês são tocs , astrofísicos e ultramaratonistas .\")\n",
        "print (\"Real translation:( laughter ) you 're all cfo , astrophysicists , ultra-marathoners , it turns out .\")"
      ]
    },
    {
      "cell_type": "code",
      "execution_count": null,
      "metadata": {
        "colab": {
          "base_uri": "https://localhost:8080/"
        },
        "id": "qdJzLuFNa9TK",
        "outputId": "94bc0dc5-46fc-4591-c79d-0bf1ab45183c"
      },
      "outputs": [
        {
          "name": "stdout",
          "output_type": "stream",
          "text": [
            "Input: sabemos mais do que eles ?\n",
            "Predicted translation: do we know more than them ?\n",
            "Real translation:do we know better than them ?\n"
          ]
        }
      ],
      "source": [
        "translate(\"sabemos mais do que eles ?\")\n",
        "print (\"Real translation:do we know better than them ?\")"
      ]
    },
    {
      "cell_type": "code",
      "execution_count": null,
      "metadata": {
        "colab": {
          "base_uri": "https://localhost:8080/"
        },
        "id": "r3ojlar1a9Iy",
        "outputId": "2b98af20-bb1e-4fe2-edb3-307eea174f48"
      },
      "outputs": [
        {
          "name": "stdout",
          "output_type": "stream",
          "text": [
            "Input: e isso afeta-nos a todos . ?\n",
            "Predicted translation: and does that affect everyone . ?\n",
            "Real translation:and that affects all of us .\n"
          ]
        }
      ],
      "source": [
        "translate(\"e isso afeta-nos a todos . ?\")\n",
        "print (\"Real translation:and that affects all of us .\")"
      ]
    },
    {
      "cell_type": "code",
      "execution_count": null,
      "metadata": {
        "colab": {
          "base_uri": "https://localhost:8080/"
        },
        "id": "JPpE9vpxa8-k",
        "outputId": "eed134f9-e399-46cf-d0ec-c70f4a3e13c1"
      },
      "outputs": [
        {
          "name": "stdout",
          "output_type": "stream",
          "text": [
            "Input: eu não sou o meu pai .\n",
            "Predicted translation: i 'm not my dad .\n",
            "Real translation:i am not my father .\n"
          ]
        }
      ],
      "source": [
        "translate(\"eu não sou o meu pai .\")\n",
        "print (\"Real translation:i am not my father .\")"
      ]
    },
    {
      "cell_type": "code",
      "execution_count": null,
      "metadata": {
        "colab": {
          "base_uri": "https://localhost:8080/",
          "height": 589
        },
        "id": "UMJPj2xoa80a",
        "outputId": "af5f5766-35da-45e1-b7e1-d6a9180000c7"
      },
      "outputs": [],
      "source": [
        "translate(\"eles têm dinheiro e poder .\", plot='decoder_layer4_block2')\n",
        "print (\"Real translation:they have money and power .\")"
      ]
    },
    {
      "cell_type": "code",
      "execution_count": null,
      "metadata": {
        "colab": {
          "base_uri": "https://localhost:8080/"
        },
        "id": "Asv0vSVAa8nq",
        "outputId": "35c884bc-3332-47ce-e4d0-7850c4404352"
      },
      "outputs": [
        {
          "name": "stdout",
          "output_type": "stream",
          "text": [
            "Input: neste vídeo , podemos ver como um cateter muito fino leva a bobina até ao coração .\n",
            "Predicted translation: in this video , we can see how a catheter get too fine to bina by putting it up to the heart .\n",
            "Real translation:in this video , we can see how a very tiny catheter takes the coil to the heart .\n"
          ]
        }
      ],
      "source": [
        "translate(\"neste vídeo , podemos ver como um cateter muito fino leva a bobina até ao coração .\")\n",
        "print (\"Real translation:in this video , we can see how a very tiny catheter takes the coil to the heart .\")"
      ]
    },
    {
      "cell_type": "code",
      "execution_count": null,
      "metadata": {
        "colab": {
          "base_uri": "https://localhost:8080/"
        },
        "id": "ZsM5Q3FlVrs8",
        "outputId": "cdf5b65a-bff2-4b0b-c011-f20e7c5d55b5"
      },
      "outputs": [
        {
          "name": "stdout",
          "output_type": "stream",
          "text": [
            "Input: depois , podem fazer-se e testar-se previsões .\n",
            "Predicted translation: then they can do it and test if possible .\n",
            "Real translation:then , predictions can be made and tested .\n"
          ]
        }
      ],
      "source": [
        "translate(\"depois , podem fazer-se e testar-se previsões .\")\n",
        "print (\"Real translation:then , predictions can be made and tested .\")"
      ]
    },
    {
      "cell_type": "code",
      "execution_count": null,
      "metadata": {
        "colab": {
          "base_uri": "https://localhost:8080/"
        },
        "id": "q-DR6eimkpdy",
        "outputId": "a8ff5e06-92f4-4678-a52f-21cbb6f193ea"
      },
      "outputs": [
        {
          "name": "stdout",
          "output_type": "stream",
          "text": [
            "Input: forçou a parar múltiplos laboratórios que ofereciam testes brca .\n",
            "Predicted translation: it forced him to stop multiple laboratories that have offered bage tests .\n",
            "Real translation:it had forced multiple labs that were offering brca testing to stop .\n"
          ]
        }
      ],
      "source": [
        "translate(\"forçou a parar múltiplos laboratórios que ofereciam testes brca .\")\n",
        "print (\"Real translation:it had forced multiple labs that were offering brca testing to stop .\")"
      ]
    },
    {
      "cell_type": "code",
      "execution_count": null,
      "metadata": {
        "colab": {
          "base_uri": "https://localhost:8080/"
        },
        "id": "YUB3K2ydVxOf",
        "outputId": "97e71994-6a77-4d08-ffc4-35d19d6ebb16"
      },
      "outputs": [
        {
          "name": "stdout",
          "output_type": "stream",
          "text": [
            "Input: as formigas são um exemplo clássico ; as operárias trabalham para as rainhas e vice-versa .\n",
            "Predicted translation: ig is a classic example ; opposed to quee and vice versal .\n",
            "Real translation:ants are a classic example ; workers work for queens and queens work for workers .\n"
          ]
        }
      ],
      "source": [
        "translate(\"as formigas são um exemplo clássico ; as operárias trabalham para as rainhas e vice-versa .\")\n",
        "print (\"Real translation:ants are a classic example ; workers work for queens and queens work for workers .\")"
      ]
    },
    {
      "cell_type": "code",
      "execution_count": null,
      "metadata": {
        "colab": {
          "base_uri": "https://localhost:8080/"
        },
        "id": "V-s-hSepV2tI",
        "outputId": "b1edc67c-5907-4eed-854d-a0f9e3f8842a"
      },
      "outputs": [
        {
          "name": "stdout",
          "output_type": "stream",
          "text": [
            "Input: uma em cada cem crianças no mundo nascem com uma doença cardíaca .\n",
            "Predicted translation: one in every 100 children in the world are born with an heart disease .\n",
            "Real translation:one of every hundred children born worldwide has some kind of heart disease .\n"
          ]
        }
      ],
      "source": [
        "translate(\"uma em cada cem crianças no mundo nascem com uma doença cardíaca .\")\n",
        "print (\"Real translation:one of every hundred children born worldwide has some kind of heart disease .\")"
      ]
    },
    {
      "cell_type": "code",
      "execution_count": null,
      "metadata": {
        "colab": {
          "base_uri": "https://localhost:8080/"
        },
        "id": "Sl3jjqGnV-9x",
        "outputId": "d73719d8-01e8-44a1-babb-d15cd6fca076"
      },
      "outputs": [
        {
          "name": "stdout",
          "output_type": "stream",
          "text": [
            "Input: neste momento da sua vida , ela está a sofrer de sida no seu expoente máximo e tinha pneumonia .\n",
            "Predicted translation: at this moment of her life , she 's being suffered from aids in its exhibition and she had neural directon .\n",
            "Real translation:at this point in her life , she 's suffering with full-blown aids and had pneumonia .\n"
          ]
        }
      ],
      "source": [
        "translate(\"neste momento da sua vida , ela está a sofrer de sida no seu expoente máximo e tinha pneumonia .\")\n",
        "print (\"Real translation:at this point in her life , she 's suffering with full-blown aids and had pneumonia .\")"
      ]
    },
    {
      "cell_type": "code",
      "execution_count": null,
      "metadata": {
        "colab": {
          "base_uri": "https://localhost:8080/"
        },
        "id": "8sNLa136kpDI",
        "outputId": "ce04864d-a945-4c5c-9014-c548d4bebf20"
      },
      "outputs": [
        {
          "name": "stdout",
          "output_type": "stream",
          "text": [
            "Input: onde estão as redes económicas ?\n",
            "Predicted translation: where are the economic networks ?\n",
            "Real translation:where are economic networks ?\n"
          ]
        }
      ],
      "source": [
        "translate(\"onde estão as redes económicas ?\")\n",
        "print (\"Real translation:where are economic networks ?\")"
      ]
    },
    {
      "cell_type": "code",
      "execution_count": null,
      "metadata": {
        "colab": {
          "base_uri": "https://localhost:8080/"
        },
        "id": "vRO90p0PWD_o",
        "outputId": "e69d590f-a090-42bf-d893-d6c5dc60bebb"
      },
      "outputs": [
        {
          "name": "stdout",
          "output_type": "stream",
          "text": [
            "Input: a partir daquele momento , comecei a pensar .\n",
            "Predicted translation: from that moment i started thinking .\n",
            "Real translation: at that moment , i started thinking .\n"
          ]
        }
      ],
      "source": [
        "translate(\"a partir daquele momento , comecei a pensar .\")\n",
        "print (\"Real translation: at that moment , i started thinking .\")"
      ]
    },
    {
      "cell_type": "code",
      "execution_count": null,
      "metadata": {
        "colab": {
          "base_uri": "https://localhost:8080/",
          "height": 597
        },
        "id": "-5ZO13lgWJTT",
        "outputId": "bdb5c3d0-a4ca-46f5-b8d8-4a93e0a33fc5"
      },
      "outputs": [],
      "source": [
        "translate(\"a luz nunca desaparece .\", plot='decoder_layer4_block2')\n",
        "print (\"Real translation: the light never goes out .\")"
      ]
    },
    {
      "cell_type": "code",
      "execution_count": null,
      "metadata": {
        "colab": {
          "base_uri": "https://localhost:8080/"
        },
        "id": "RLHFl1rAWMGM",
        "outputId": "e1a21d5f-d1a9-4f0d-8128-1d349cabcb5b"
      },
      "outputs": [
        {
          "name": "stdout",
          "output_type": "stream",
          "text": [
            "Input: é um museu muito popular agora , e criei um grande monumento para o governo .\n",
            "Predicted translation: it 's a very popular museum now , and i created a big monument to government .\n",
            "Real translation: it 's a very popular museum now , and i created a big monument for the government .\n"
          ]
        }
      ],
      "source": [
        "translate(\"é um museu muito popular agora , e criei um grande monumento para o governo .\")\n",
        "print (\"Real translation: it 's a very popular museum now , and i created a big monument for the government .\")"
      ]
    },
    {
      "cell_type": "code",
      "execution_count": null,
      "metadata": {
        "colab": {
          "base_uri": "https://localhost:8080/"
        },
        "id": "9vTyQbnoWQvC",
        "outputId": "2f54f9dd-3ea3-4110-c3d1-16959ecc3545"
      },
      "outputs": [
        {
          "name": "stdout",
          "output_type": "stream",
          "text": [
            "Input: e , no entanto , a ironia é que a única maneira de podermos fazer qualquer coisa nova é dar um passo nessa direção .\n",
            "Predicted translation: and yet , the irony is that the only way we can do anything new thing is to take that step in that direction .\n",
            "Real translation: and yet , the irony is , the only way we can ever do anything new is to step into that space .\n"
          ]
        }
      ],
      "source": [
        "translate(\"e , no entanto , a ironia é que a única maneira de podermos fazer qualquer coisa nova é dar um passo nessa direção .\")\n",
        "print (\"Real translation: and yet , the irony is , the only way we can ever do anything new is to step into that space .\")"
      ]
    },
    {
      "cell_type": "code",
      "execution_count": null,
      "metadata": {
        "colab": {
          "base_uri": "https://localhost:8080/",
          "height": 640
        },
        "id": "dYhccIXAWTwD",
        "outputId": "c7033eb3-685d-4d04-8427-4789c0794c2c"
      },
      "outputs": [],
      "source": [
        "translate(\"este é o primeiro livro que eu fiz.\", plot='decoder_layer4_block2')\n",
        "print (\"Real translation: this is the first book i've ever done.\")"
      ]
    },
    {
      "cell_type": "code",
      "execution_count": null,
      "metadata": {
        "colab": {
          "base_uri": "https://localhost:8080/"
        },
        "id": "oRpSaxHZ4nsX",
        "outputId": "aebabfc3-8a90-4e50-f938-702237eecb72"
      },
      "outputs": [
        {
          "name": "stdout",
          "output_type": "stream",
          "text": [
            "Input: os meus vizinhos ouviram sobre esta ideia.\n",
            "Predicted translation: my neighbors has heard about this idea of all .\n",
            "Real translation: and my neighboring homes heard about this idea .\n"
          ]
        }
      ],
      "source": [
        "translate(\"os meus vizinhos ouviram sobre esta ideia.\")\n",
        "print (\"Real translation: and my neighboring homes heard about this idea .\")"
      ]
    },
    {
      "cell_type": "code",
      "execution_count": null,
      "metadata": {
        "colab": {
          "base_uri": "https://localhost:8080/"
        },
        "id": "GaxvmMkbWbtx",
        "outputId": "a0f13d58-c17d-41b2-dc31-cd9e38ff797b"
      },
      "outputs": [
        {
          "name": "stdout",
          "output_type": "stream",
          "text": [
            "Input: vou então muito rapidamente partilhar convosco algumas histórias de algumas coisas mágicas que aconteceram.\n",
            "Predicted translation: so i 'm very quickly to share with you some magic stories that have happened .\n",
            "Real translation: so i 'll just share with you some stories very quickly of some magical things that have happened .\n"
          ]
        }
      ],
      "source": [
        "translate(\"vou então muito rapidamente partilhar convosco algumas histórias de algumas coisas mágicas que aconteceram.\")\n",
        "print (\"Real translation: so i 'll just share with you some stories very quickly of some magical things that have happened .\")"
      ]
    },
    {
      "cell_type": "code",
      "execution_count": null,
      "metadata": {
        "colab": {
          "base_uri": "https://localhost:8080/",
          "height": 640
        },
        "id": "ybcJlu6b4uDV",
        "outputId": "7f08e9a8-5f47-4c12-b8b2-3d49cb0f2d24"
      },
      "outputs": [],
      "source": [
        "translate(\"este é um problema que temos que resolver.\", plot='decoder_layer4_block2')\n",
        "print (\"Real translation: this is a problem we have to solve .\")"
      ]
    }
  ],
  "metadata": {
    "colab": {
      "collapsed_sections": [
        "zk6ZNnWo0I11",
        "IgnlUsnO0lWh",
        "TRMIuQkNJVCl",
        "7fmJ0OJznJe-",
        "TwxHPC6c8q1u",
        "3br6JNn8ATJ3",
        "8Msu_Rj1nSjD",
        "VdTZ_j1QnpSQ",
        "PtM_54omoLN0",
        "8ensP1pFocWY",
        "Hc3caxrUoos3",
        "_uGxUmM-oxfW",
        "zuMPhNeJpJSM",
        "eZwGJ2M2peOv",
        "emKnxzD7zlQm",
        "DJta_0qEz5dS"
      ],
      "name": "tamrin 8",
      "provenance": []
    },
    "gpuClass": "standard",
    "kernelspec": {
      "display_name": "Python 3",
      "name": "python3"
    },
    "language_info": {
      "name": "python"
    }
  },
  "nbformat": 4,
  "nbformat_minor": 0
}
